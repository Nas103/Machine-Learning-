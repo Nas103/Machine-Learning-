{
 "cells": [
  {
   "cell_type": "code",
   "execution_count": null,
   "metadata": {
    "vscode": {
     "languageId": "plaintext"
    }
   },
   "outputs": [],
   "source": [
    "import nltk\n",
    "from nltk.corpus import stopwords\n",
    "from nltk.stem import PorterStemmer\n",
    "import string\n",
    "import pandas as pd\n",
    "from sklearn.feature_extraction.text import TfidfVectorizer\n",
    "from sklearn.linear_model import LogisticRegression"
   ]
  },
  {
   "cell_type": "code",
   "execution_count": null,
   "metadata": {
    "vscode": {
     "languageId": "plaintext"
    }
   },
   "outputs": [],
   "source": [
    "nltk.download('punkt')\n",
    "nltk.download('stopwords')"
   ]
  },
  {
   "cell_type": "code",
   "execution_count": null,
   "metadata": {
    "vscode": {
     "languageId": "plaintext"
    }
   },
   "outputs": [],
   "source": [
    "def preprocess(text):\n",
    "    text = text.lower()\n",
    "        text = ''.join([c for c in text if c not in string.punctuation])\n",
    "            tokens = nltk.word_tokenize(text)\n",
    "                stop_words = set(stopwords.words('english'))\n",
    "                    filtered = [word for word in tokens if word not in stop_words]\n",
    "                        ps = PorterStemmer()\n",
    "                            stemmed = [ps.stem(word) for word in filtered]\n",
    "                                return ' '.join(stemmed)"
   ]
  },
  {
   "cell_type": "code",
   "execution_count": null,
   "metadata": {
    "vscode": {
     "languageId": "plaintext"
    }
   },
   "outputs": [],
   "source": [
    "# Sample dataset\n",
    "data = {\n",
    "        'Review': [\n",
    "                    \"This product is fantastic!\",\n",
    "                            \"Terrible quality, broke in 2 days.\",\n",
    "                                    \"It works okay but could be better.\",\n",
    "                                            \"Absolutely love it!\",\n",
    "                                                    \"Not worth the price.\"\n",
    "        ],\n",
    "            'Sentiment': ['Positive', 'Negative', 'Neutral', 'Positive', 'Negative']\n",
    "}\n",
    "\n",
    "df = pd.DataFrame(data)\n",
    "df['Processed_Review'] = df['Review'].apply(preprocess)\n",
    "        ]\n",
    "}"
   ]
  },
  {
   "cell_type": "code",
   "execution_count": null,
   "metadata": {
    "vscode": {
     "languageId": "plaintext"
    }
   },
   "outputs": [],
   "source": [
    "tfidf = TfidfVectorizer()\n",
    "X = tfidf.fit_transform(df['Processed_Review'])\n",
    "y = df['Sentiment'].map({'Negative': 0, 'Neutral': 1, 'Positive': 2})"
   ]
  },
  {
   "cell_type": "code",
   "execution_count": null,
   "metadata": {
    "vscode": {
     "languageId": "plaintext"
    }
   },
   "outputs": [],
   "source": [
    "test_reviews = [\n",
    "        \"Love this product! Worth every penny.\",\n",
    "            \"Disappointing and overpriced.\",\n",
    "                \"It's decent, but nothing special.\"\n",
    "]\n",
    "\n",
    "for review in test_reviews:\n",
    "    processed = preprocess(review)\n",
    "        vector = tfidf.transform([processed])\n",
    "            prediction = model.predict(vector)\n",
    "                sentiment = {0: 'Negative', 1: 'Neutral', 2: 'Positive'}[prediction[0]]\n",
    "                    print(f\"Review: '{review}' → Sentiment: {sentiment}\")\n",
    "]"
   ]
  },
  {
   "cell_type": "code",
   "execution_count": null,
   "metadata": {
    "vscode": {
     "languageId": "plaintext"
    }
   },
   "outputs": [],
   "source": [
    "import matplotlib.pyplot as plt\n",
    "\n",
    "# Plot sentiment distribution\n",
    "df['Sentiment'].value_counts().plot(kind='bar', color=['green', 'red', 'blue'])\n",
    "plt.title('Sentiment Distribution')\n",
    "plt.xlabel('Sentiment')\n",
    "plt.ylabel('Count')\n",
    "plt.show()"
   ]
  }
 ],
 "metadata": {
  "language_info": {
   "name": "python"
  }
 },
 "nbformat": 4,
 "nbformat_minor": 2
}
